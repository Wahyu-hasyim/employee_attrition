{
 "cells": [
  {
   "cell_type": "code",
   "execution_count": null,
   "id": "c43c51ed",
   "metadata": {},
   "outputs": [
    {
     "name": "stdout",
     "output_type": "stream",
     "text": [
      "              precision    recall  f1-score   support\n",
      "\n",
      "           0       1.00      1.00      1.00      1257\n",
      "           1       0.92      0.90      0.91        40\n",
      "\n",
      "    accuracy                           0.99      1297\n",
      "   macro avg       0.96      0.95      0.95      1297\n",
      "weighted avg       0.99      0.99      0.99      1297\n",
      "\n"
     ]
    }
   ],
   "source": [
    "import pandas as pd\n",
    "import numpy as np\n",
    "from sklearn.model_selection import train_test_split\n",
    "from sklearn.ensemble import RandomForestClassifier\n",
    "from sklearn.preprocessing import StandardScaler\n",
    "from sklearn.metrics import classification_report\n",
    "from imblearn.combine import SMOTE\n",
    "from joblib import dump\n",
    "\n",
    "# Load data\n",
    "df = pd.read_csv(\"employee_attrition.csv\")\n",
    "df.drop_duplicates(subset=[\"EmployeeID\"], inplace=True)\n",
    "df[\"status_resign\"] = np.where(df[\"termreason_desc\"] == \"Resignaton\", 1, 0)\n",
    "\n",
    "# Drop kolom tidak perlu\n",
    "df = df.set_index(\"EmployeeID\").drop(columns=[\n",
    "    \"recorddate_key\", \"birthdate_key\", \"orighiredate_key\", \"STATUS\", \"STATUS_YEAR\",\n",
    "    \"gender_short\", \"termtype_desc\", \"store_name\", \"termreason_desc\", \"terminationdate_key\"\n",
    "])\n",
    "\n",
    "# Features & Target\n",
    "X = df.drop(columns=[\"status_resign\"])\n",
    "y = df[\"status_resign\"]\n",
    "\n",
    "# Feature engineering minimal\n",
    "X[\"dept_risk\"] = X[\"department_name\"].isin([\"Customer Service\", \"Produce\", \"Bakery\"]).astype(int)\n",
    "X[\"city_risk\"] = X[\"city_name\"].apply(lambda x: 2 if x == \"Valemont\" else 1)\n",
    "X[\"job_risk\"] = X[\"job_title\"].apply(lambda x: 2 if x == \"VP Stores\" else 1)\n",
    "X[\"usia_risk\"] = ((X[\"age\"] >= 8) & (X[\"age\"] <= 26)).astype(int)\n",
    "\n",
    "# Drop kolom kategori\n",
    "X.drop(columns=[\"department_name\", \"city_name\", \"job_title\"], inplace=True)\n",
    "\n",
    "# Encoding\n",
    "X = pd.get_dummies(X, columns=[\"BUSINESS_UNIT\", \"gender_full\"])\n",
    "\n",
    "# Scaling\n",
    "scaler = StandardScaler()\n",
    "X[\"length_of_service\"] = scaler.fit_transform(X[[\"length_of_service\"]])\n",
    "\n",
    "# Train-test split\n",
    "X_train, X_test, y_train, y_test = train_test_split(X, y, test_size=0.2, random_state=42)\n",
    "\n",
    "# SMOTE + Tomek\n",
    "smote = SMOTE(random_state=42)\n",
    "X_train, y_train = smt.fit_resample(X_train, y_train)\n",
    "\n",
    "# Train model\n",
    "model = RandomForestClassifier(n_estimators=100, random_state=42)\n",
    "model.fit(X_train, y_train)\n",
    "\n",
    "# Save model\n",
    "dump(model, \"model_rf.joblib\")\n",
    "dump(scaler, \"scaler.joblib\")\n",
    "\n",
    "# Optional: evaluasi\n",
    "y_pred = model.predict(X_test)\n",
    "print(classification_report(y_test, y_pred))\n"
   ]
  }
 ],
 "metadata": {
  "kernelspec": {
   "display_name": "env_finalpro",
   "language": "python",
   "name": "python3"
  },
  "language_info": {
   "codemirror_mode": {
    "name": "ipython",
    "version": 3
   },
   "file_extension": ".py",
   "mimetype": "text/x-python",
   "name": "python",
   "nbconvert_exporter": "python",
   "pygments_lexer": "ipython3",
   "version": "3.12.7"
  }
 },
 "nbformat": 4,
 "nbformat_minor": 5
}
